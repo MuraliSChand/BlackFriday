{
 "cells": [
  {
   "cell_type": "code",
   "execution_count": 1,
   "metadata": {},
   "outputs": [],
   "source": [
    "import pandas as pd\n",
    "import matplotlib.pyplot as plt\n",
    "import numpy as np"
   ]
  },
  {
   "cell_type": "code",
   "execution_count": 2,
   "metadata": {},
   "outputs": [],
   "source": [
    "df = pd.read_csv(r'../train.csv')"
   ]
  },
  {
   "cell_type": "code",
   "execution_count": 3,
   "metadata": {},
   "outputs": [
    {
     "data": {
      "text/html": [
       "<div>\n",
       "<style scoped>\n",
       "    .dataframe tbody tr th:only-of-type {\n",
       "        vertical-align: middle;\n",
       "    }\n",
       "\n",
       "    .dataframe tbody tr th {\n",
       "        vertical-align: top;\n",
       "    }\n",
       "\n",
       "    .dataframe thead th {\n",
       "        text-align: right;\n",
       "    }\n",
       "</style>\n",
       "<table border=\"1\" class=\"dataframe\">\n",
       "  <thead>\n",
       "    <tr style=\"text-align: right;\">\n",
       "      <th></th>\n",
       "      <th>User_ID</th>\n",
       "      <th>Product_ID</th>\n",
       "      <th>Gender</th>\n",
       "      <th>Age</th>\n",
       "      <th>Occupation</th>\n",
       "      <th>City_Category</th>\n",
       "      <th>Stay_In_Current_City_Years</th>\n",
       "      <th>Marital_Status</th>\n",
       "      <th>Product_Category_1</th>\n",
       "      <th>Product_Category_2</th>\n",
       "      <th>Product_Category_3</th>\n",
       "      <th>Purchase</th>\n",
       "    </tr>\n",
       "  </thead>\n",
       "  <tbody>\n",
       "    <tr>\n",
       "      <th>0</th>\n",
       "      <td>1000001</td>\n",
       "      <td>P00069042</td>\n",
       "      <td>F</td>\n",
       "      <td>0-17</td>\n",
       "      <td>10</td>\n",
       "      <td>A</td>\n",
       "      <td>2</td>\n",
       "      <td>0</td>\n",
       "      <td>3</td>\n",
       "      <td>NaN</td>\n",
       "      <td>NaN</td>\n",
       "      <td>8370</td>\n",
       "    </tr>\n",
       "    <tr>\n",
       "      <th>1</th>\n",
       "      <td>1000001</td>\n",
       "      <td>P00248942</td>\n",
       "      <td>F</td>\n",
       "      <td>0-17</td>\n",
       "      <td>10</td>\n",
       "      <td>A</td>\n",
       "      <td>2</td>\n",
       "      <td>0</td>\n",
       "      <td>1</td>\n",
       "      <td>6.0</td>\n",
       "      <td>14.0</td>\n",
       "      <td>15200</td>\n",
       "    </tr>\n",
       "    <tr>\n",
       "      <th>2</th>\n",
       "      <td>1000001</td>\n",
       "      <td>P00087842</td>\n",
       "      <td>F</td>\n",
       "      <td>0-17</td>\n",
       "      <td>10</td>\n",
       "      <td>A</td>\n",
       "      <td>2</td>\n",
       "      <td>0</td>\n",
       "      <td>12</td>\n",
       "      <td>NaN</td>\n",
       "      <td>NaN</td>\n",
       "      <td>1422</td>\n",
       "    </tr>\n",
       "    <tr>\n",
       "      <th>3</th>\n",
       "      <td>1000001</td>\n",
       "      <td>P00085442</td>\n",
       "      <td>F</td>\n",
       "      <td>0-17</td>\n",
       "      <td>10</td>\n",
       "      <td>A</td>\n",
       "      <td>2</td>\n",
       "      <td>0</td>\n",
       "      <td>12</td>\n",
       "      <td>14.0</td>\n",
       "      <td>NaN</td>\n",
       "      <td>1057</td>\n",
       "    </tr>\n",
       "    <tr>\n",
       "      <th>4</th>\n",
       "      <td>1000002</td>\n",
       "      <td>P00285442</td>\n",
       "      <td>M</td>\n",
       "      <td>55+</td>\n",
       "      <td>16</td>\n",
       "      <td>C</td>\n",
       "      <td>4+</td>\n",
       "      <td>0</td>\n",
       "      <td>8</td>\n",
       "      <td>NaN</td>\n",
       "      <td>NaN</td>\n",
       "      <td>7969</td>\n",
       "    </tr>\n",
       "  </tbody>\n",
       "</table>\n",
       "</div>"
      ],
      "text/plain": [
       "   User_ID Product_ID Gender   Age  Occupation City_Category  \\\n",
       "0  1000001  P00069042      F  0-17          10             A   \n",
       "1  1000001  P00248942      F  0-17          10             A   \n",
       "2  1000001  P00087842      F  0-17          10             A   \n",
       "3  1000001  P00085442      F  0-17          10             A   \n",
       "4  1000002  P00285442      M   55+          16             C   \n",
       "\n",
       "  Stay_In_Current_City_Years  Marital_Status  Product_Category_1  \\\n",
       "0                          2               0                   3   \n",
       "1                          2               0                   1   \n",
       "2                          2               0                  12   \n",
       "3                          2               0                  12   \n",
       "4                         4+               0                   8   \n",
       "\n",
       "   Product_Category_2  Product_Category_3  Purchase  \n",
       "0                 NaN                 NaN      8370  \n",
       "1                 6.0                14.0     15200  \n",
       "2                 NaN                 NaN      1422  \n",
       "3                14.0                 NaN      1057  \n",
       "4                 NaN                 NaN      7969  "
      ]
     },
     "execution_count": 3,
     "metadata": {},
     "output_type": "execute_result"
    }
   ],
   "source": [
    "df.head()"
   ]
  },
  {
   "cell_type": "code",
   "execution_count": 4,
   "metadata": {},
   "outputs": [],
   "source": [
    "removing_cols = ['User_ID','Product_ID']\n",
    "cate_vars = ['Gender','Age','Occupation','City_Category','Stay_In_Current_City_Years','Marital_Status','Product_Category_1','Product_Category_2','Product_Category_3']"
   ]
  },
  {
   "cell_type": "code",
   "execution_count": 5,
   "metadata": {},
   "outputs": [
    {
     "name": "stdout",
     "output_type": "stream",
     "text": [
      "0\n"
     ]
    }
   ],
   "source": [
    "df['Product_Category_2'].fillna(0,inplace=True)\n",
    "print(df['Product_Category_2'].isnull().sum())"
   ]
  },
  {
   "cell_type": "code",
   "execution_count": 6,
   "metadata": {},
   "outputs": [
    {
     "name": "stdout",
     "output_type": "stream",
     "text": [
      "383247\n",
      "0\n"
     ]
    }
   ],
   "source": [
    "print(df['Product_Category_3'].isnull().sum())\n",
    "df['Product_Category_3'].fillna(0,inplace=True)\n",
    "print(df['Product_Category_3'].isnull().sum())"
   ]
  },
  {
   "cell_type": "code",
   "execution_count": 7,
   "metadata": {},
   "outputs": [
    {
     "name": "stdout",
     "output_type": "stream",
     "text": [
      "5     150933\n",
      "1     140378\n",
      "8     113925\n",
      "11     24287\n",
      "2      23864\n",
      "6      20466\n",
      "3      20213\n",
      "4      11753\n",
      "16      9828\n",
      "15      6290\n",
      "13      5549\n",
      "10      5125\n",
      "12      3947\n",
      "7       3721\n",
      "18      3125\n",
      "20      2550\n",
      "19      1603\n",
      "14      1523\n",
      "17       578\n",
      "9        410\n",
      "Name: Product_Category_1, dtype: int64\n",
      "0\n"
     ]
    }
   ],
   "source": [
    "print(df['Product_Category_1'].value_counts())\n",
    "print(df['Product_Category_1'].isnull().sum())"
   ]
  },
  {
   "cell_type": "code",
   "execution_count": 8,
   "metadata": {},
   "outputs": [
    {
     "name": "stdout",
     "output_type": "stream",
     "text": [
      "0    324731\n",
      "1    225337\n",
      "Name: Marital_Status, dtype: int64\n",
      "0\n"
     ]
    }
   ],
   "source": [
    "print(df['Marital_Status'].value_counts())\n",
    "print(df['Marital_Status'].isnull().sum())"
   ]
  },
  {
   "cell_type": "code",
   "execution_count": 9,
   "metadata": {},
   "outputs": [
    {
     "name": "stdout",
     "output_type": "stream",
     "text": [
      "1     193821\n",
      "2     101838\n",
      "3      95285\n",
      "4+     84726\n",
      "0      74398\n",
      "Name: Stay_In_Current_City_Years, dtype: int64\n",
      "0\n"
     ]
    }
   ],
   "source": [
    "print(df['Stay_In_Current_City_Years'].value_counts())\n",
    "print(df['Stay_In_Current_City_Years'].isnull().sum())"
   ]
  },
  {
   "cell_type": "code",
   "execution_count": 10,
   "metadata": {},
   "outputs": [
    {
     "name": "stdout",
     "output_type": "stream",
     "text": [
      "B    231173\n",
      "C    171175\n",
      "A    147720\n",
      "Name: City_Category, dtype: int64\n",
      "0\n"
     ]
    }
   ],
   "source": [
    "print(df['City_Category'].value_counts())\n",
    "print(df['City_Category'].isnull().sum())"
   ]
  },
  {
   "cell_type": "code",
   "execution_count": 11,
   "metadata": {},
   "outputs": [
    {
     "data": {
      "text/plain": [
       "0"
      ]
     },
     "execution_count": 11,
     "metadata": {},
     "output_type": "execute_result"
    }
   ],
   "source": [
    "df['Gender'].isnull().sum()"
   ]
  },
  {
   "cell_type": "code",
   "execution_count": 12,
   "metadata": {},
   "outputs": [
    {
     "name": "stdout",
     "output_type": "stream",
     "text": [
      "26-35    219587\n",
      "36-45    110013\n",
      "18-25     99660\n",
      "46-50     45701\n",
      "51-55     38501\n",
      "55+       21504\n",
      "0-17      15102\n",
      "Name: Age, dtype: int64\n",
      "0\n"
     ]
    }
   ],
   "source": [
    "print(df['Age'].value_counts())\n",
    "print(df['Age'].isnull().sum())"
   ]
  },
  {
   "cell_type": "code",
   "execution_count": 13,
   "metadata": {},
   "outputs": [
    {
     "name": "stdout",
     "output_type": "stream",
     "text": [
      "4     72308\n",
      "0     69638\n",
      "7     59133\n",
      "1     47426\n",
      "17    40043\n",
      "20    33562\n",
      "12    31179\n",
      "14    27309\n",
      "2     26588\n",
      "16    25371\n",
      "6     20355\n",
      "3     17650\n",
      "10    12930\n",
      "5     12177\n",
      "15    12165\n",
      "11    11586\n",
      "19     8461\n",
      "13     7728\n",
      "18     6622\n",
      "9      6291\n",
      "8      1546\n",
      "Name: Occupation, dtype: int64\n",
      "0\n"
     ]
    }
   ],
   "source": [
    "#occupation\n",
    "print(df['Occupation'].value_counts())\n",
    "print(df['Occupation'].isnull().sum())"
   ]
  },
  {
   "cell_type": "code",
   "execution_count": 14,
   "metadata": {},
   "outputs": [
    {
     "data": {
      "text/plain": [
       "(550068, 12)"
      ]
     },
     "execution_count": 14,
     "metadata": {},
     "output_type": "execute_result"
    }
   ],
   "source": [
    "df.shape"
   ]
  },
  {
   "cell_type": "code",
   "execution_count": 15,
   "metadata": {},
   "outputs": [],
   "source": [
    "#No use of User_ID and Product_ID\n",
    "df.drop(removing_cols,axis=1,inplace=True)"
   ]
  },
  {
   "cell_type": "code",
   "execution_count": 16,
   "metadata": {},
   "outputs": [],
   "source": [
    "df['Age'] = df['Age'].map({'0-17':0,'18-25':1,'26-35':2,'36-45':3,'46-50':4,'51-55':5,'55+':6})"
   ]
  },
  {
   "cell_type": "code",
   "execution_count": 17,
   "metadata": {},
   "outputs": [
    {
     "data": {
      "text/html": [
       "<div>\n",
       "<style scoped>\n",
       "    .dataframe tbody tr th:only-of-type {\n",
       "        vertical-align: middle;\n",
       "    }\n",
       "\n",
       "    .dataframe tbody tr th {\n",
       "        vertical-align: top;\n",
       "    }\n",
       "\n",
       "    .dataframe thead th {\n",
       "        text-align: right;\n",
       "    }\n",
       "</style>\n",
       "<table border=\"1\" class=\"dataframe\">\n",
       "  <thead>\n",
       "    <tr style=\"text-align: right;\">\n",
       "      <th></th>\n",
       "      <th>Gender</th>\n",
       "      <th>Age</th>\n",
       "      <th>Occupation</th>\n",
       "      <th>City_Category</th>\n",
       "      <th>Stay_In_Current_City_Years</th>\n",
       "      <th>Marital_Status</th>\n",
       "      <th>Product_Category_1</th>\n",
       "      <th>Product_Category_2</th>\n",
       "      <th>Product_Category_3</th>\n",
       "      <th>Purchase</th>\n",
       "    </tr>\n",
       "  </thead>\n",
       "  <tbody>\n",
       "    <tr>\n",
       "      <th>0</th>\n",
       "      <td>F</td>\n",
       "      <td>0</td>\n",
       "      <td>10</td>\n",
       "      <td>A</td>\n",
       "      <td>2</td>\n",
       "      <td>0</td>\n",
       "      <td>3</td>\n",
       "      <td>0.0</td>\n",
       "      <td>0.0</td>\n",
       "      <td>8370</td>\n",
       "    </tr>\n",
       "    <tr>\n",
       "      <th>1</th>\n",
       "      <td>F</td>\n",
       "      <td>0</td>\n",
       "      <td>10</td>\n",
       "      <td>A</td>\n",
       "      <td>2</td>\n",
       "      <td>0</td>\n",
       "      <td>1</td>\n",
       "      <td>6.0</td>\n",
       "      <td>14.0</td>\n",
       "      <td>15200</td>\n",
       "    </tr>\n",
       "    <tr>\n",
       "      <th>2</th>\n",
       "      <td>F</td>\n",
       "      <td>0</td>\n",
       "      <td>10</td>\n",
       "      <td>A</td>\n",
       "      <td>2</td>\n",
       "      <td>0</td>\n",
       "      <td>12</td>\n",
       "      <td>0.0</td>\n",
       "      <td>0.0</td>\n",
       "      <td>1422</td>\n",
       "    </tr>\n",
       "    <tr>\n",
       "      <th>3</th>\n",
       "      <td>F</td>\n",
       "      <td>0</td>\n",
       "      <td>10</td>\n",
       "      <td>A</td>\n",
       "      <td>2</td>\n",
       "      <td>0</td>\n",
       "      <td>12</td>\n",
       "      <td>14.0</td>\n",
       "      <td>0.0</td>\n",
       "      <td>1057</td>\n",
       "    </tr>\n",
       "    <tr>\n",
       "      <th>4</th>\n",
       "      <td>M</td>\n",
       "      <td>6</td>\n",
       "      <td>16</td>\n",
       "      <td>C</td>\n",
       "      <td>4+</td>\n",
       "      <td>0</td>\n",
       "      <td>8</td>\n",
       "      <td>0.0</td>\n",
       "      <td>0.0</td>\n",
       "      <td>7969</td>\n",
       "    </tr>\n",
       "  </tbody>\n",
       "</table>\n",
       "</div>"
      ],
      "text/plain": [
       "  Gender  Age  Occupation City_Category Stay_In_Current_City_Years  \\\n",
       "0      F    0          10             A                          2   \n",
       "1      F    0          10             A                          2   \n",
       "2      F    0          10             A                          2   \n",
       "3      F    0          10             A                          2   \n",
       "4      M    6          16             C                         4+   \n",
       "\n",
       "   Marital_Status  Product_Category_1  Product_Category_2  Product_Category_3  \\\n",
       "0               0                   3                 0.0                 0.0   \n",
       "1               0                   1                 6.0                14.0   \n",
       "2               0                  12                 0.0                 0.0   \n",
       "3               0                  12                14.0                 0.0   \n",
       "4               0                   8                 0.0                 0.0   \n",
       "\n",
       "   Purchase  \n",
       "0      8370  \n",
       "1     15200  \n",
       "2      1422  \n",
       "3      1057  \n",
       "4      7969  "
      ]
     },
     "execution_count": 17,
     "metadata": {},
     "output_type": "execute_result"
    }
   ],
   "source": [
    "df2 = df.copy()\n",
    "df.head()"
   ]
  },
  {
   "cell_type": "code",
   "execution_count": 18,
   "metadata": {},
   "outputs": [],
   "source": [
    "for i in cate_vars:\n",
    "    df[i] = df[i].astype('category')\n",
    "    df = pd.concat([df.drop(i,axis=1),pd.get_dummies(df[i].astype('category'),prefix=i)],axis=1)"
   ]
  },
  {
   "cell_type": "code",
   "execution_count": 19,
   "metadata": {},
   "outputs": [
    {
     "data": {
      "text/html": [
       "<div>\n",
       "<style scoped>\n",
       "    .dataframe tbody tr th:only-of-type {\n",
       "        vertical-align: middle;\n",
       "    }\n",
       "\n",
       "    .dataframe tbody tr th {\n",
       "        vertical-align: top;\n",
       "    }\n",
       "\n",
       "    .dataframe thead th {\n",
       "        text-align: right;\n",
       "    }\n",
       "</style>\n",
       "<table border=\"1\" class=\"dataframe\">\n",
       "  <thead>\n",
       "    <tr style=\"text-align: right;\">\n",
       "      <th></th>\n",
       "      <th>Purchase</th>\n",
       "      <th>Gender_F</th>\n",
       "      <th>Gender_M</th>\n",
       "      <th>Age_0</th>\n",
       "      <th>Age_1</th>\n",
       "      <th>Age_2</th>\n",
       "      <th>Age_3</th>\n",
       "      <th>Age_4</th>\n",
       "      <th>Age_5</th>\n",
       "      <th>Age_6</th>\n",
       "      <th>...</th>\n",
       "      <th>Product_Category_3_9.0</th>\n",
       "      <th>Product_Category_3_10.0</th>\n",
       "      <th>Product_Category_3_11.0</th>\n",
       "      <th>Product_Category_3_12.0</th>\n",
       "      <th>Product_Category_3_13.0</th>\n",
       "      <th>Product_Category_3_14.0</th>\n",
       "      <th>Product_Category_3_15.0</th>\n",
       "      <th>Product_Category_3_16.0</th>\n",
       "      <th>Product_Category_3_17.0</th>\n",
       "      <th>Product_Category_3_18.0</th>\n",
       "    </tr>\n",
       "  </thead>\n",
       "  <tbody>\n",
       "    <tr>\n",
       "      <th>0</th>\n",
       "      <td>8370</td>\n",
       "      <td>1</td>\n",
       "      <td>0</td>\n",
       "      <td>1</td>\n",
       "      <td>0</td>\n",
       "      <td>0</td>\n",
       "      <td>0</td>\n",
       "      <td>0</td>\n",
       "      <td>0</td>\n",
       "      <td>0</td>\n",
       "      <td>...</td>\n",
       "      <td>0</td>\n",
       "      <td>0</td>\n",
       "      <td>0</td>\n",
       "      <td>0</td>\n",
       "      <td>0</td>\n",
       "      <td>0</td>\n",
       "      <td>0</td>\n",
       "      <td>0</td>\n",
       "      <td>0</td>\n",
       "      <td>0</td>\n",
       "    </tr>\n",
       "    <tr>\n",
       "      <th>1</th>\n",
       "      <td>15200</td>\n",
       "      <td>1</td>\n",
       "      <td>0</td>\n",
       "      <td>1</td>\n",
       "      <td>0</td>\n",
       "      <td>0</td>\n",
       "      <td>0</td>\n",
       "      <td>0</td>\n",
       "      <td>0</td>\n",
       "      <td>0</td>\n",
       "      <td>...</td>\n",
       "      <td>0</td>\n",
       "      <td>0</td>\n",
       "      <td>0</td>\n",
       "      <td>0</td>\n",
       "      <td>0</td>\n",
       "      <td>1</td>\n",
       "      <td>0</td>\n",
       "      <td>0</td>\n",
       "      <td>0</td>\n",
       "      <td>0</td>\n",
       "    </tr>\n",
       "    <tr>\n",
       "      <th>2</th>\n",
       "      <td>1422</td>\n",
       "      <td>1</td>\n",
       "      <td>0</td>\n",
       "      <td>1</td>\n",
       "      <td>0</td>\n",
       "      <td>0</td>\n",
       "      <td>0</td>\n",
       "      <td>0</td>\n",
       "      <td>0</td>\n",
       "      <td>0</td>\n",
       "      <td>...</td>\n",
       "      <td>0</td>\n",
       "      <td>0</td>\n",
       "      <td>0</td>\n",
       "      <td>0</td>\n",
       "      <td>0</td>\n",
       "      <td>0</td>\n",
       "      <td>0</td>\n",
       "      <td>0</td>\n",
       "      <td>0</td>\n",
       "      <td>0</td>\n",
       "    </tr>\n",
       "    <tr>\n",
       "      <th>3</th>\n",
       "      <td>1057</td>\n",
       "      <td>1</td>\n",
       "      <td>0</td>\n",
       "      <td>1</td>\n",
       "      <td>0</td>\n",
       "      <td>0</td>\n",
       "      <td>0</td>\n",
       "      <td>0</td>\n",
       "      <td>0</td>\n",
       "      <td>0</td>\n",
       "      <td>...</td>\n",
       "      <td>0</td>\n",
       "      <td>0</td>\n",
       "      <td>0</td>\n",
       "      <td>0</td>\n",
       "      <td>0</td>\n",
       "      <td>0</td>\n",
       "      <td>0</td>\n",
       "      <td>0</td>\n",
       "      <td>0</td>\n",
       "      <td>0</td>\n",
       "    </tr>\n",
       "    <tr>\n",
       "      <th>4</th>\n",
       "      <td>7969</td>\n",
       "      <td>0</td>\n",
       "      <td>1</td>\n",
       "      <td>0</td>\n",
       "      <td>0</td>\n",
       "      <td>0</td>\n",
       "      <td>0</td>\n",
       "      <td>0</td>\n",
       "      <td>0</td>\n",
       "      <td>1</td>\n",
       "      <td>...</td>\n",
       "      <td>0</td>\n",
       "      <td>0</td>\n",
       "      <td>0</td>\n",
       "      <td>0</td>\n",
       "      <td>0</td>\n",
       "      <td>0</td>\n",
       "      <td>0</td>\n",
       "      <td>0</td>\n",
       "      <td>0</td>\n",
       "      <td>0</td>\n",
       "    </tr>\n",
       "  </tbody>\n",
       "</table>\n",
       "<p>5 rows × 95 columns</p>\n",
       "</div>"
      ],
      "text/plain": [
       "   Purchase  Gender_F  Gender_M  Age_0  Age_1  Age_2  Age_3  Age_4  Age_5  \\\n",
       "0      8370         1         0      1      0      0      0      0      0   \n",
       "1     15200         1         0      1      0      0      0      0      0   \n",
       "2      1422         1         0      1      0      0      0      0      0   \n",
       "3      1057         1         0      1      0      0      0      0      0   \n",
       "4      7969         0         1      0      0      0      0      0      0   \n",
       "\n",
       "   Age_6           ...             Product_Category_3_9.0  \\\n",
       "0      0           ...                                  0   \n",
       "1      0           ...                                  0   \n",
       "2      0           ...                                  0   \n",
       "3      0           ...                                  0   \n",
       "4      1           ...                                  0   \n",
       "\n",
       "   Product_Category_3_10.0  Product_Category_3_11.0  Product_Category_3_12.0  \\\n",
       "0                        0                        0                        0   \n",
       "1                        0                        0                        0   \n",
       "2                        0                        0                        0   \n",
       "3                        0                        0                        0   \n",
       "4                        0                        0                        0   \n",
       "\n",
       "   Product_Category_3_13.0  Product_Category_3_14.0  Product_Category_3_15.0  \\\n",
       "0                        0                        0                        0   \n",
       "1                        0                        1                        0   \n",
       "2                        0                        0                        0   \n",
       "3                        0                        0                        0   \n",
       "4                        0                        0                        0   \n",
       "\n",
       "   Product_Category_3_16.0  Product_Category_3_17.0  Product_Category_3_18.0  \n",
       "0                        0                        0                        0  \n",
       "1                        0                        0                        0  \n",
       "2                        0                        0                        0  \n",
       "3                        0                        0                        0  \n",
       "4                        0                        0                        0  \n",
       "\n",
       "[5 rows x 95 columns]"
      ]
     },
     "execution_count": 19,
     "metadata": {},
     "output_type": "execute_result"
    }
   ],
   "source": [
    "df.head()"
   ]
  },
  {
   "cell_type": "code",
   "execution_count": 20,
   "metadata": {},
   "outputs": [],
   "source": [
    "from sklearn.linear_model import LinearRegression as lr"
   ]
  },
  {
   "cell_type": "code",
   "execution_count": 21,
   "metadata": {},
   "outputs": [],
   "source": [
    "from sklearn.model_selection import train_test_split as tts"
   ]
  },
  {
   "cell_type": "code",
   "execution_count": 22,
   "metadata": {},
   "outputs": [],
   "source": [
    "X,y = df.drop('Purchase',1),df['Purchase']\n",
    "X_train,X_test,y_train,y_test = tts(X,y)"
   ]
  },
  {
   "cell_type": "code",
   "execution_count": 23,
   "metadata": {},
   "outputs": [
    {
     "data": {
      "text/plain": [
       "LinearRegression(copy_X=True, fit_intercept=True, n_jobs=None,\n",
       "         normalize=False)"
      ]
     },
     "execution_count": 23,
     "metadata": {},
     "output_type": "execute_result"
    }
   ],
   "source": [
    "LR = lr()\n",
    "LR.fit(X_train,y_train)"
   ]
  },
  {
   "cell_type": "code",
   "execution_count": 24,
   "metadata": {},
   "outputs": [
    {
     "data": {
      "text/plain": [
       "0.650897009904174"
      ]
     },
     "execution_count": 24,
     "metadata": {},
     "output_type": "execute_result"
    }
   ],
   "source": [
    "LR.score(X_test,y_test)"
   ]
  },
  {
   "cell_type": "code",
   "execution_count": 25,
   "metadata": {},
   "outputs": [],
   "source": [
    "df2['Stay_In_Current_City_Years'] = df2['Stay_In_Current_City_Years'].astype('category')"
   ]
  },
  {
   "cell_type": "code",
   "execution_count": 26,
   "metadata": {},
   "outputs": [],
   "source": [
    "df2 = df2.drop('Stay_In_Current_City_Years',axis=1)"
   ]
  },
  {
   "cell_type": "code",
   "execution_count": 27,
   "metadata": {},
   "outputs": [
    {
     "data": {
      "text/html": [
       "<div>\n",
       "<style scoped>\n",
       "    .dataframe tbody tr th:only-of-type {\n",
       "        vertical-align: middle;\n",
       "    }\n",
       "\n",
       "    .dataframe tbody tr th {\n",
       "        vertical-align: top;\n",
       "    }\n",
       "\n",
       "    .dataframe thead th {\n",
       "        text-align: right;\n",
       "    }\n",
       "</style>\n",
       "<table border=\"1\" class=\"dataframe\">\n",
       "  <thead>\n",
       "    <tr style=\"text-align: right;\">\n",
       "      <th></th>\n",
       "      <th>Gender</th>\n",
       "      <th>Age</th>\n",
       "      <th>Occupation</th>\n",
       "      <th>City_Category</th>\n",
       "      <th>Marital_Status</th>\n",
       "      <th>Product_Category_1</th>\n",
       "      <th>Product_Category_2</th>\n",
       "      <th>Product_Category_3</th>\n",
       "      <th>Purchase</th>\n",
       "    </tr>\n",
       "  </thead>\n",
       "  <tbody>\n",
       "    <tr>\n",
       "      <th>0</th>\n",
       "      <td>F</td>\n",
       "      <td>0</td>\n",
       "      <td>10</td>\n",
       "      <td>A</td>\n",
       "      <td>0</td>\n",
       "      <td>3</td>\n",
       "      <td>0.0</td>\n",
       "      <td>0.0</td>\n",
       "      <td>8370</td>\n",
       "    </tr>\n",
       "    <tr>\n",
       "      <th>1</th>\n",
       "      <td>F</td>\n",
       "      <td>0</td>\n",
       "      <td>10</td>\n",
       "      <td>A</td>\n",
       "      <td>0</td>\n",
       "      <td>1</td>\n",
       "      <td>6.0</td>\n",
       "      <td>14.0</td>\n",
       "      <td>15200</td>\n",
       "    </tr>\n",
       "    <tr>\n",
       "      <th>2</th>\n",
       "      <td>F</td>\n",
       "      <td>0</td>\n",
       "      <td>10</td>\n",
       "      <td>A</td>\n",
       "      <td>0</td>\n",
       "      <td>12</td>\n",
       "      <td>0.0</td>\n",
       "      <td>0.0</td>\n",
       "      <td>1422</td>\n",
       "    </tr>\n",
       "    <tr>\n",
       "      <th>3</th>\n",
       "      <td>F</td>\n",
       "      <td>0</td>\n",
       "      <td>10</td>\n",
       "      <td>A</td>\n",
       "      <td>0</td>\n",
       "      <td>12</td>\n",
       "      <td>14.0</td>\n",
       "      <td>0.0</td>\n",
       "      <td>1057</td>\n",
       "    </tr>\n",
       "    <tr>\n",
       "      <th>4</th>\n",
       "      <td>M</td>\n",
       "      <td>6</td>\n",
       "      <td>16</td>\n",
       "      <td>C</td>\n",
       "      <td>0</td>\n",
       "      <td>8</td>\n",
       "      <td>0.0</td>\n",
       "      <td>0.0</td>\n",
       "      <td>7969</td>\n",
       "    </tr>\n",
       "  </tbody>\n",
       "</table>\n",
       "</div>"
      ],
      "text/plain": [
       "  Gender  Age  Occupation City_Category  Marital_Status  Product_Category_1  \\\n",
       "0      F    0          10             A               0                   3   \n",
       "1      F    0          10             A               0                   1   \n",
       "2      F    0          10             A               0                  12   \n",
       "3      F    0          10             A               0                  12   \n",
       "4      M    6          16             C               0                   8   \n",
       "\n",
       "   Product_Category_2  Product_Category_3  Purchase  \n",
       "0                 0.0                 0.0      8370  \n",
       "1                 6.0                14.0     15200  \n",
       "2                 0.0                 0.0      1422  \n",
       "3                14.0                 0.0      1057  \n",
       "4                 0.0                 0.0      7969  "
      ]
     },
     "execution_count": 27,
     "metadata": {},
     "output_type": "execute_result"
    }
   ],
   "source": [
    "#pre-processing df2\n",
    "df2.head()"
   ]
  },
  {
   "cell_type": "code",
   "execution_count": 28,
   "metadata": {},
   "outputs": [
    {
     "name": "stdout",
     "output_type": "stream",
     "text": [
      "                  Purchase\n",
      "City_Category             \n",
      "A              8911.939216\n",
      "B              9151.300563\n",
      "C              9719.920993\n"
     ]
    },
    {
     "data": {
      "text/plain": [
       "<matplotlib.axes._subplots.AxesSubplot at 0x2710a955c18>"
      ]
     },
     "execution_count": 28,
     "metadata": {},
     "output_type": "execute_result"
    },
    {
     "data": {
      "image/png": "[encoded data removed]",
      "text/plain": [
       "<Figure size 432x288 with 1 Axes>"
      ]
     },
     "metadata": {
      "needs_background": "light"
     },
     "output_type": "display_data"
    }
   ],
   "source": [
    "print(df2[['City_Category','Purchase']].groupby('City_Category').mean())\n",
    "df2[['City_Category','Purchase']].groupby('City_Category').mean().plot(kind='bar')"
   ]
  },
  {
   "cell_type": "code",
   "execution_count": 29,
   "metadata": {},
   "outputs": [
    {
     "name": "stdout",
     "output_type": "stream",
     "text": [
      "                        Purchase\n",
      "Product_Category_1              \n",
      "1                   13606.218596\n",
      "2                   11251.935384\n",
      "3                   10096.705734\n",
      "4                    2329.659491\n",
      "5                    6240.088178\n",
      "6                   15838.478550\n",
      "7                   16365.689600\n",
      "8                    7498.958078\n",
      "9                   15537.375610\n",
      "10                  19675.570927\n",
      "11                   4685.268456\n",
      "12                   1350.859894\n",
      "13                    722.400613\n",
      "14                  13141.625739\n",
      "15                  14780.451828\n",
      "16                  14766.037037\n",
      "17                  10170.759516\n",
      "18                   2972.864320\n",
      "19                     37.041797\n",
      "20                    370.481176\n"
     ]
    },
    {
     "data": {
      "text/plain": [
       "<matplotlib.axes._subplots.AxesSubplot at 0x2710781c668>"
      ]
     },
     "execution_count": 29,
     "metadata": {},
     "output_type": "execute_result"
    },
    {
     "data": {
      "image/png": "[encoded data removed]",
      "text/plain": [
       "<Figure size 432x288 with 1 Axes>"
      ]
     },
     "metadata": {
      "needs_background": "light"
     },
     "output_type": "display_data"
    }
   ],
   "source": [
    "print(df2[['Product_Category_1','Purchase']].groupby('Product_Category_1').mean())\n",
    "df2[['Product_Category_1','Purchase']].groupby('Product_Category_1').mean().plot(kind='bar')"
   ]
  },
  {
   "cell_type": "code",
   "execution_count": 30,
   "metadata": {},
   "outputs": [
    {
     "name": "stdout",
     "output_type": "stream",
     "text": [
      "               Purchase\n",
      "Occupation             \n",
      "0           9124.428588\n",
      "1           8953.193270\n",
      "2           8952.481683\n",
      "3           9178.593088\n",
      "4           9213.980251\n",
      "5           9333.149298\n",
      "6           9256.535691\n",
      "7           9425.728223\n",
      "8           9532.592497\n",
      "9           8637.743761\n",
      "10          8959.355375\n",
      "11          9213.845848\n",
      "12          9796.640239\n",
      "13          9306.351061\n",
      "14          9500.702772\n",
      "15          9778.891163\n",
      "16          9394.464349\n",
      "17          9821.478236\n",
      "18          9169.655844\n",
      "19          8710.627231\n",
      "20          8836.494905\n"
     ]
    },
    {
     "data": {
      "text/plain": [
       "<matplotlib.axes._subplots.AxesSubplot at 0x271078db2e8>"
      ]
     },
     "execution_count": 30,
     "metadata": {},
     "output_type": "execute_result"
    },
    {
     "data": {
      "image/png": "[encoded data removed]",
      "text/plain": [
       "<Figure size 432x288 with 1 Axes>"
      ]
     },
     "metadata": {
      "needs_background": "light"
     },
     "output_type": "display_data"
    }
   ],
   "source": [
    "print(df2[['Occupation','Purchase']].groupby('Occupation').mean())\n",
    "df2[['Occupation','Purchase']].groupby('Occupation').mean().plot(kind='bar')"
   ]
  },
  {
   "cell_type": "code",
   "execution_count": 31,
   "metadata": {},
   "outputs": [
    {
     "data": {
      "text/plain": [
       "Gender                 object\n",
       "Age                     int64\n",
       "Occupation              int64\n",
       "City_Category          object\n",
       "Marital_Status          int64\n",
       "Product_Category_1      int64\n",
       "Product_Category_2    float64\n",
       "Product_Category_3    float64\n",
       "Purchase                int64\n",
       "dtype: object"
      ]
     },
     "execution_count": 31,
     "metadata": {},
     "output_type": "execute_result"
    }
   ],
   "source": [
    "df2.dtypes"
   ]
  },
  {
   "cell_type": "code",
   "execution_count": 32,
   "metadata": {},
   "outputs": [],
   "source": [
    "df2['Gender'] = df2['Gender'].map({'F':1,'M':2})\n",
    "df2['Occupation'].dtype\n",
    "df2['City_Category'].value_counts()\n",
    "df2['City_Category'] = df2['City_Category'].map({'A':1,'B':2,'C':3})"
   ]
  },
  {
   "cell_type": "code",
   "execution_count": 33,
   "metadata": {},
   "outputs": [],
   "source": [
    "X2,y2 = df2.drop('Purchase',1),df2['Purchase']"
   ]
  },
  {
   "cell_type": "code",
   "execution_count": 34,
   "metadata": {},
   "outputs": [],
   "source": [
    "for i in X2.columns:\n",
    "    X2 = pd.concat([X2.drop(i,axis=1),pd.get_dummies(X2[i].astype('category'),prefix=i)],axis=1)"
   ]
  },
  {
   "cell_type": "code",
   "execution_count": 35,
   "metadata": {},
   "outputs": [],
   "source": [
    "X2_train,X2_test,y2_train,y2_test = tts(X2,y2)"
   ]
  },
  {
   "cell_type": "code",
   "execution_count": 105,
   "metadata": {},
   "outputs": [
    {
     "data": {
      "text/plain": [
       "LinearRegression(copy_X=True, fit_intercept=False, n_jobs=None,\n",
       "         normalize=True)"
      ]
     },
     "execution_count": 105,
     "metadata": {},
     "output_type": "execute_result"
    }
   ],
   "source": [
    "LR = lr(normalize=True,fit_intercept=False)\n",
    "LR.fit(X2_train,y2_train)"
   ]
  },
  {
   "cell_type": "code",
   "execution_count": 107,
   "metadata": {},
   "outputs": [],
   "source": [
    "y_pred = LR.predict(X2_test)"
   ]
  },
  {
   "cell_type": "code",
   "execution_count": 94,
   "metadata": {},
   "outputs": [],
   "source": [
    "from sklearn.metrics import mean_squared_error as mse"
   ]
  },
  {
   "cell_type": "code",
   "execution_count": 108,
   "metadata": {},
   "outputs": [
    {
     "data": {
      "text/plain": [
       "2970.7892064665884"
      ]
     },
     "execution_count": 108,
     "metadata": {},
     "output_type": "execute_result"
    }
   ],
   "source": [
    "mse(y2_test,y_pred)**(1/2)"
   ]
  },
  {
   "cell_type": "code",
   "execution_count": 109,
   "metadata": {},
   "outputs": [
    {
     "data": {
      "text/plain": [
       "0.6498279782619945"
      ]
     },
     "execution_count": 109,
     "metadata": {},
     "output_type": "execute_result"
    }
   ],
   "source": [
    "LR.score(X2_test,y2_test)"
   ]
  },
  {
   "cell_type": "code",
   "execution_count": 41,
   "metadata": {},
   "outputs": [],
   "source": [
    "from sklearn.tree import DecisionTreeRegressor as DTR"
   ]
  },
  {
   "cell_type": "code",
   "execution_count": 42,
   "metadata": {},
   "outputs": [],
   "source": [
    "dtr = DTR()"
   ]
  },
  {
   "cell_type": "code",
   "execution_count": 43,
   "metadata": {},
   "outputs": [],
   "source": [
    "from sklearn.model_selection import GridSearchCV as gsv"
   ]
  },
  {
   "cell_type": "code",
   "execution_count": 44,
   "metadata": {},
   "outputs": [],
   "source": [
    "param_grid={'max_depth':range(4,10),'min_samples_leaf':np.linspace(0.1,0.5,20)}"
   ]
  },
  {
   "cell_type": "code",
   "execution_count": 45,
   "metadata": {},
   "outputs": [],
   "source": [
    "dtr_cv = gsv(dtr,param_grid=param_grid,cv=5)"
   ]
  },
  {
   "cell_type": "code",
   "execution_count": 46,
   "metadata": {},
   "outputs": [
    {
     "data": {
      "text/html": [
       "<div>\n",
       "<style scoped>\n",
       "    .dataframe tbody tr th:only-of-type {\n",
       "        vertical-align: middle;\n",
       "    }\n",
       "\n",
       "    .dataframe tbody tr th {\n",
       "        vertical-align: top;\n",
       "    }\n",
       "\n",
       "    .dataframe thead th {\n",
       "        text-align: right;\n",
       "    }\n",
       "</style>\n",
       "<table border=\"1\" class=\"dataframe\">\n",
       "  <thead>\n",
       "    <tr style=\"text-align: right;\">\n",
       "      <th></th>\n",
       "      <th>Gender_1</th>\n",
       "      <th>Gender_2</th>\n",
       "      <th>Age_0</th>\n",
       "      <th>Age_1</th>\n",
       "      <th>Age_2</th>\n",
       "      <th>Age_3</th>\n",
       "      <th>Age_4</th>\n",
       "      <th>Age_5</th>\n",
       "      <th>Age_6</th>\n",
       "      <th>Occupation_0</th>\n",
       "      <th>...</th>\n",
       "      <th>Product_Category_3_9.0</th>\n",
       "      <th>Product_Category_3_10.0</th>\n",
       "      <th>Product_Category_3_11.0</th>\n",
       "      <th>Product_Category_3_12.0</th>\n",
       "      <th>Product_Category_3_13.0</th>\n",
       "      <th>Product_Category_3_14.0</th>\n",
       "      <th>Product_Category_3_15.0</th>\n",
       "      <th>Product_Category_3_16.0</th>\n",
       "      <th>Product_Category_3_17.0</th>\n",
       "      <th>Product_Category_3_18.0</th>\n",
       "    </tr>\n",
       "  </thead>\n",
       "  <tbody>\n",
       "    <tr>\n",
       "      <th>96667</th>\n",
       "      <td>0</td>\n",
       "      <td>1</td>\n",
       "      <td>0</td>\n",
       "      <td>1</td>\n",
       "      <td>0</td>\n",
       "      <td>0</td>\n",
       "      <td>0</td>\n",
       "      <td>0</td>\n",
       "      <td>0</td>\n",
       "      <td>0</td>\n",
       "      <td>...</td>\n",
       "      <td>0</td>\n",
       "      <td>0</td>\n",
       "      <td>0</td>\n",
       "      <td>0</td>\n",
       "      <td>0</td>\n",
       "      <td>0</td>\n",
       "      <td>0</td>\n",
       "      <td>0</td>\n",
       "      <td>0</td>\n",
       "      <td>0</td>\n",
       "    </tr>\n",
       "    <tr>\n",
       "      <th>362241</th>\n",
       "      <td>0</td>\n",
       "      <td>1</td>\n",
       "      <td>0</td>\n",
       "      <td>0</td>\n",
       "      <td>1</td>\n",
       "      <td>0</td>\n",
       "      <td>0</td>\n",
       "      <td>0</td>\n",
       "      <td>0</td>\n",
       "      <td>0</td>\n",
       "      <td>...</td>\n",
       "      <td>0</td>\n",
       "      <td>0</td>\n",
       "      <td>0</td>\n",
       "      <td>0</td>\n",
       "      <td>0</td>\n",
       "      <td>0</td>\n",
       "      <td>0</td>\n",
       "      <td>0</td>\n",
       "      <td>0</td>\n",
       "      <td>0</td>\n",
       "    </tr>\n",
       "    <tr>\n",
       "      <th>9372</th>\n",
       "      <td>0</td>\n",
       "      <td>1</td>\n",
       "      <td>0</td>\n",
       "      <td>1</td>\n",
       "      <td>0</td>\n",
       "      <td>0</td>\n",
       "      <td>0</td>\n",
       "      <td>0</td>\n",
       "      <td>0</td>\n",
       "      <td>0</td>\n",
       "      <td>...</td>\n",
       "      <td>0</td>\n",
       "      <td>0</td>\n",
       "      <td>0</td>\n",
       "      <td>0</td>\n",
       "      <td>0</td>\n",
       "      <td>0</td>\n",
       "      <td>0</td>\n",
       "      <td>0</td>\n",
       "      <td>0</td>\n",
       "      <td>0</td>\n",
       "    </tr>\n",
       "    <tr>\n",
       "      <th>32214</th>\n",
       "      <td>0</td>\n",
       "      <td>1</td>\n",
       "      <td>0</td>\n",
       "      <td>0</td>\n",
       "      <td>0</td>\n",
       "      <td>0</td>\n",
       "      <td>1</td>\n",
       "      <td>0</td>\n",
       "      <td>0</td>\n",
       "      <td>0</td>\n",
       "      <td>...</td>\n",
       "      <td>0</td>\n",
       "      <td>0</td>\n",
       "      <td>0</td>\n",
       "      <td>0</td>\n",
       "      <td>0</td>\n",
       "      <td>0</td>\n",
       "      <td>0</td>\n",
       "      <td>0</td>\n",
       "      <td>0</td>\n",
       "      <td>0</td>\n",
       "    </tr>\n",
       "    <tr>\n",
       "      <th>342209</th>\n",
       "      <td>0</td>\n",
       "      <td>1</td>\n",
       "      <td>0</td>\n",
       "      <td>0</td>\n",
       "      <td>1</td>\n",
       "      <td>0</td>\n",
       "      <td>0</td>\n",
       "      <td>0</td>\n",
       "      <td>0</td>\n",
       "      <td>0</td>\n",
       "      <td>...</td>\n",
       "      <td>0</td>\n",
       "      <td>0</td>\n",
       "      <td>0</td>\n",
       "      <td>0</td>\n",
       "      <td>0</td>\n",
       "      <td>0</td>\n",
       "      <td>0</td>\n",
       "      <td>0</td>\n",
       "      <td>0</td>\n",
       "      <td>0</td>\n",
       "    </tr>\n",
       "  </tbody>\n",
       "</table>\n",
       "<p>5 rows × 89 columns</p>\n",
       "</div>"
      ],
      "text/plain": [
       "        Gender_1  Gender_2  Age_0  Age_1  Age_2  Age_3  Age_4  Age_5  Age_6  \\\n",
       "96667          0         1      0      1      0      0      0      0      0   \n",
       "362241         0         1      0      0      1      0      0      0      0   \n",
       "9372           0         1      0      1      0      0      0      0      0   \n",
       "32214          0         1      0      0      0      0      1      0      0   \n",
       "342209         0         1      0      0      1      0      0      0      0   \n",
       "\n",
       "        Occupation_0           ...             Product_Category_3_9.0  \\\n",
       "96667              0           ...                                  0   \n",
       "362241             0           ...                                  0   \n",
       "9372               0           ...                                  0   \n",
       "32214              0           ...                                  0   \n",
       "342209             0           ...                                  0   \n",
       "\n",
       "        Product_Category_3_10.0  Product_Category_3_11.0  \\\n",
       "96667                         0                        0   \n",
       "362241                        0                        0   \n",
       "9372                          0                        0   \n",
       "32214                         0                        0   \n",
       "342209                        0                        0   \n",
       "\n",
       "        Product_Category_3_12.0  Product_Category_3_13.0  \\\n",
       "96667                         0                        0   \n",
       "362241                        0                        0   \n",
       "9372                          0                        0   \n",
       "32214                         0                        0   \n",
       "342209                        0                        0   \n",
       "\n",
       "        Product_Category_3_14.0  Product_Category_3_15.0  \\\n",
       "96667                         0                        0   \n",
       "362241                        0                        0   \n",
       "9372                          0                        0   \n",
       "32214                         0                        0   \n",
       "342209                        0                        0   \n",
       "\n",
       "        Product_Category_3_16.0  Product_Category_3_17.0  \\\n",
       "96667                         0                        0   \n",
       "362241                        0                        0   \n",
       "9372                          0                        0   \n",
       "32214                         0                        0   \n",
       "342209                        0                        0   \n",
       "\n",
       "        Product_Category_3_18.0  \n",
       "96667                         0  \n",
       "362241                        0  \n",
       "9372                          0  \n",
       "32214                         0  \n",
       "342209                        0  \n",
       "\n",
       "[5 rows x 89 columns]"
      ]
     },
     "execution_count": 46,
     "metadata": {},
     "output_type": "execute_result"
    }
   ],
   "source": [
    "X2_train.head()"
   ]
  },
  {
   "cell_type": "code",
   "execution_count": 47,
   "metadata": {},
   "outputs": [
    {
     "data": {
      "text/plain": [
       "DecisionTreeRegressor(criterion='mse', max_depth=None, max_features=None,\n",
       "           max_leaf_nodes=None, min_impurity_decrease=0.0,\n",
       "           min_impurity_split=None, min_samples_leaf=1,\n",
       "           min_samples_split=2, min_weight_fraction_leaf=0.0,\n",
       "           presort=False, random_state=None, splitter='best')"
      ]
     },
     "execution_count": 47,
     "metadata": {},
     "output_type": "execute_result"
    }
   ],
   "source": [
    "dtr.fit(X2_train,y2_train)"
   ]
  },
  {
   "cell_type": "code",
   "execution_count": 48,
   "metadata": {},
   "outputs": [],
   "source": [
    "y_pred = dtr.predict(X2_test)"
   ]
  },
  {
   "cell_type": "code",
   "execution_count": 49,
   "metadata": {},
   "outputs": [
    {
     "data": {
      "text/plain": [
       "3178.557434665514"
      ]
     },
     "execution_count": 49,
     "metadata": {},
     "output_type": "execute_result"
    }
   ],
   "source": [
    "mse(y2_test,y_pred)**(1/2)"
   ]
  },
  {
   "cell_type": "code",
   "execution_count": 50,
   "metadata": {},
   "outputs": [],
   "source": [
    "from sklearn.linear_model import Ridge,Lasso"
   ]
  },
  {
   "cell_type": "code",
   "execution_count": 51,
   "metadata": {},
   "outputs": [],
   "source": [
    "r = Ridge()"
   ]
  },
  {
   "cell_type": "code",
   "execution_count": 52,
   "metadata": {},
   "outputs": [],
   "source": [
    "params_lin = {'alpha':np.linspace(0.4,1,20)}"
   ]
  },
  {
   "cell_type": "code",
   "execution_count": 53,
   "metadata": {},
   "outputs": [],
   "source": [
    "r_cv = gsv(r,param_grid=params_lin,cv=5)"
   ]
  },
  {
   "cell_type": "code",
   "execution_count": 54,
   "metadata": {},
   "outputs": [
    {
     "data": {
      "text/plain": [
       "GridSearchCV(cv=5, error_score='raise-deprecating',\n",
       "       estimator=Ridge(alpha=1.0, copy_X=True, fit_intercept=True, max_iter=None,\n",
       "   normalize=False, random_state=None, solver='auto', tol=0.001),\n",
       "       fit_params=None, iid='warn', n_jobs=None,\n",
       "       param_grid={'alpha': array([0.4    , 0.43158, 0.46316, 0.49474, 0.52632, 0.55789, 0.58947,\n",
       "       0.62105, 0.65263, 0.68421, 0.71579, 0.74737, 0.77895, 0.81053,\n",
       "       0.84211, 0.87368, 0.90526, 0.93684, 0.96842, 1.     ])},\n",
       "       pre_dispatch='2*n_jobs', refit=True, return_train_score='warn',\n",
       "       scoring=None, verbose=0)"
      ]
     },
     "execution_count": 54,
     "metadata": {},
     "output_type": "execute_result"
    }
   ],
   "source": [
    "r_cv.fit(X2_train,y2_train)"
   ]
  },
  {
   "cell_type": "code",
   "execution_count": 55,
   "metadata": {},
   "outputs": [
    {
     "data": {
      "text/plain": [
       "0.6470084999817153"
      ]
     },
     "execution_count": 55,
     "metadata": {},
     "output_type": "execute_result"
    }
   ],
   "source": [
    "r_cv.best_score_"
   ]
  },
  {
   "cell_type": "code",
   "execution_count": 56,
   "metadata": {},
   "outputs": [],
   "source": [
    "import tensorflow.keras as k"
   ]
  },
  {
   "cell_type": "code",
   "execution_count": 100,
   "metadata": {},
   "outputs": [],
   "source": [
    "model = k.models.Sequential([k.layers.Dense(128,input_dim=89,kernel_initializer='normal',activation='relu'),\n",
    "                            k.layers.Dense(256,activation='relu',kernel_initializer='normal'),\n",
    "                            k.layers.Dense(256,activation='relu',kernel_initializer='normal'),\n",
    "                             k.layers.Dense(128,activation='relu',kernel_initializer='normal'),\n",
    "                            k.layers.Dense(1,activation='linear',kernel_initializer='normal')])"
   ]
  },
  {
   "cell_type": "code",
   "execution_count": 101,
   "metadata": {},
   "outputs": [
    {
     "name": "stdout",
     "output_type": "stream",
     "text": [
      "_________________________________________________________________\n",
      "Layer (type)                 Output Shape              Param #   \n",
      "=================================================================\n",
      "dense_29 (Dense)             (None, 128)               11520     \n",
      "_________________________________________________________________\n",
      "dense_30 (Dense)             (None, 256)               33024     \n",
      "_________________________________________________________________\n",
      "dense_31 (Dense)             (None, 256)               65792     \n",
      "_________________________________________________________________\n",
      "dense_32 (Dense)             (None, 128)               32896     \n",
      "_________________________________________________________________\n",
      "dense_33 (Dense)             (None, 1)                 129       \n",
      "=================================================================\n",
      "Total params: 143,361\n",
      "Trainable params: 143,361\n",
      "Non-trainable params: 0\n",
      "_________________________________________________________________\n"
     ]
    }
   ],
   "source": [
    "model.summary()"
   ]
  },
  {
   "cell_type": "code",
   "execution_count": 102,
   "metadata": {},
   "outputs": [],
   "source": [
    "model.compile(loss='mean_squared_error',optimizer='adam',metrics=['mean_squared_error'])"
   ]
  },
  {
   "cell_type": "code",
   "execution_count": 106,
   "metadata": {},
   "outputs": [
    {
     "data": {
      "text/plain": [
       "2886.003984751234"
      ]
     },
     "execution_count": 106,
     "metadata": {},
     "output_type": "execute_result"
    }
   ],
   "source": [
    "8329019 ** (1/2)"
   ]
  },
  {
   "cell_type": "code",
   "execution_count": 110,
   "metadata": {},
   "outputs": [
    {
     "name": "stdout",
     "output_type": "stream",
     "text": [
      "Train on 330040 samples, validate on 82511 samples\n",
      "Epoch 1/40\n",
      "330040/330040 [==============================] - 6s 18us/sample - loss: 8374075.0549 - mean_squared_error: 8374069.5000 - val_loss: 8424243.6479 - val_mean_squared_error: 8424242.0000\n",
      "Epoch 2/40\n",
      "330040/330040 [==============================] - 6s 18us/sample - loss: 8340357.7539 - mean_squared_error: 8340357.0000 - val_loss: 8422711.1213 - val_mean_squared_error: 8422712.0000\n",
      "Epoch 3/40\n",
      "330040/330040 [==============================] - 6s 18us/sample - loss: 8335204.6205 - mean_squared_error: 8335206.0000 - val_loss: 8419011.3930 - val_mean_squared_error: 8419009.0000\n",
      "Epoch 4/40\n",
      "330040/330040 [==============================] - 6s 18us/sample - loss: 8319391.3081 - mean_squared_error: 8319389.0000 - val_loss: 8410340.1562 - val_mean_squared_error: 8410338.0000\n",
      "Epoch 5/40\n",
      "330040/330040 [==============================] - 6s 18us/sample - loss: 8311361.7459 - mean_squared_error: 8311359.0000 - val_loss: 8540790.9198 - val_mean_squared_error: 8540789.0000\n",
      "Epoch 6/40\n",
      "330040/330040 [==============================] - 6s 18us/sample - loss: 8287289.7470 - mean_squared_error: 8287293.5000 - val_loss: 8420495.4349 - val_mean_squared_error: 8420497.0000\n",
      "Epoch 7/40\n",
      "330040/330040 [==============================] - 6s 18us/sample - loss: 8283253.4532 - mean_squared_error: 8283260.5000 - val_loss: 8384933.2479 - val_mean_squared_error: 8384933.0000\n",
      "Epoch 8/40\n",
      "330040/330040 [==============================] - 7s 23us/sample - loss: 8260231.0902 - mean_squared_error: 8260232.5000 - val_loss: 8419872.7047 - val_mean_squared_error: 8419871.0000\n",
      "Epoch 9/40\n",
      "330040/330040 [==============================] - 7s 20us/sample - loss: 8243185.4013 - mean_squared_error: 8243187.5000 - val_loss: 8406500.0770 - val_mean_squared_error: 8406501.0000\n",
      "Epoch 10/40\n",
      "330040/330040 [==============================] - 7s 20us/sample - loss: 8229393.9157 - mean_squared_error: 8229393.0000 - val_loss: 8393481.5788 - val_mean_squared_error: 8393480.0000\n",
      "Epoch 11/40\n",
      "330040/330040 [==============================] - 6s 20us/sample - loss: 8225845.2944 - mean_squared_error: 8225849.0000 - val_loss: 8412021.2127 - val_mean_squared_error: 8412020.0000\n",
      "Epoch 12/40\n",
      "330040/330040 [==============================] - 6s 19us/sample - loss: 8202495.0430 - mean_squared_error: 8202496.5000 - val_loss: 8397480.6297 - val_mean_squared_error: 8397480.0000\n",
      "Epoch 13/40\n",
      "330040/330040 [==============================] - 6s 19us/sample - loss: 8191719.6026 - mean_squared_error: 8191723.0000 - val_loss: 8522788.9622 - val_mean_squared_error: 8522789.0000\n",
      "Epoch 14/40\n",
      "330040/330040 [==============================] - 7s 20us/sample - loss: 8184806.7923 - mean_squared_error: 8184806.0000 - val_loss: 8374539.5622 - val_mean_squared_error: 8374538.5000\n",
      "Epoch 15/40\n",
      "330040/330040 [==============================] - 6s 19us/sample - loss: 8176232.9843 - mean_squared_error: 8176229.5000 - val_loss: 8589366.3417 - val_mean_squared_error: 8589366.0000\n",
      "Epoch 16/40\n",
      "330040/330040 [==============================] - 6s 19us/sample - loss: 8159162.2805 - mean_squared_error: 8159164.5000 - val_loss: 8454760.2163 - val_mean_squared_error: 8454760.0000\n",
      "Epoch 17/40\n",
      "330040/330040 [==============================] - 6s 19us/sample - loss: 8155479.4956 - mean_squared_error: 8155482.0000 - val_loss: 8375732.5845 - val_mean_squared_error: 8375733.0000\n",
      "Epoch 18/40\n",
      "330040/330040 [==============================] - 6s 18us/sample - loss: 8137095.6238 - mean_squared_error: 8137094.5000 - val_loss: 8440117.8428 - val_mean_squared_error: 8440116.0000\n",
      "Epoch 19/40\n",
      "330040/330040 [==============================] - 6s 19us/sample - loss: 8121657.5749 - mean_squared_error: 8121663.5000 - val_loss: 8509701.3018 - val_mean_squared_error: 8509701.0000\n",
      "Epoch 20/40\n",
      "330040/330040 [==============================] - 6s 19us/sample - loss: 8115869.8493 - mean_squared_error: 8115870.5000 - val_loss: 8381858.2961 - val_mean_squared_error: 8381862.5000\n",
      "Epoch 21/40\n",
      "330040/330040 [==============================] - 6s 18us/sample - loss: 8110801.4922 - mean_squared_error: 8110800.0000 - val_loss: 8399195.6026 - val_mean_squared_error: 8399193.0000\n",
      "Epoch 22/40\n",
      "330040/330040 [==============================] - 6s 19us/sample - loss: 8096177.3802 - mean_squared_error: 8096175.0000 - val_loss: 8383431.5662 - val_mean_squared_error: 8383428.5000\n",
      "Epoch 23/40\n",
      "330040/330040 [==============================] - 7s 20us/sample - loss: 8082893.5772 - mean_squared_error: 8082894.0000 - val_loss: 8421062.8903 - val_mean_squared_error: 8421064.0000\n",
      "Epoch 24/40\n",
      "330040/330040 [==============================] - 6s 19us/sample - loss: 8074603.6949 - mean_squared_error: 8074608.0000 - val_loss: 8425245.2956 - val_mean_squared_error: 8425244.0000\n",
      "Epoch 25/40\n",
      "330040/330040 [==============================] - 6s 19us/sample - loss: 8069615.6398 - mean_squared_error: 8069617.5000 - val_loss: 8422126.8206 - val_mean_squared_error: 8422129.0000\n",
      "Epoch 26/40\n",
      "330040/330040 [==============================] - 6s 18us/sample - loss: 8061424.3891 - mean_squared_error: 8061424.5000 - val_loss: 8391585.5224 - val_mean_squared_error: 8391585.0000\n",
      "Epoch 27/40\n",
      "330040/330040 [==============================] - 6s 19us/sample - loss: 8053793.0569 - mean_squared_error: 8053800.0000 - val_loss: 8403786.9989 - val_mean_squared_error: 8403788.0000\n",
      "Epoch 28/40\n",
      "330040/330040 [==============================] - 6s 19us/sample - loss: 8045587.8195 - mean_squared_error: 8045585.0000 - val_loss: 8488744.9750 - val_mean_squared_error: 8488745.0000\n",
      "Epoch 29/40\n",
      "330040/330040 [==============================] - 7s 21us/sample - loss: 8040123.0928 - mean_squared_error: 8040123.5000 - val_loss: 8458503.8360 - val_mean_squared_error: 8458501.0000\n",
      "Epoch 30/40\n",
      "330040/330040 [==============================] - 7s 22us/sample - loss: 8041581.6189 - mean_squared_error: 8041580.0000 - val_loss: 8406968.4706 - val_mean_squared_error: 8406968.0000\n",
      "Epoch 31/40\n",
      "330040/330040 [==============================] - 6s 19us/sample - loss: 8029854.7722 - mean_squared_error: 8029852.0000 - val_loss: 8522889.3008 - val_mean_squared_error: 8522892.0000\n",
      "Epoch 32/40\n",
      "330040/330040 [==============================] - 7s 22us/sample - loss: 8017305.2343 - mean_squared_error: 8017308.0000 - val_loss: 8481094.7860 - val_mean_squared_error: 8481092.0000\n",
      "Epoch 33/40\n",
      "330040/330040 [==============================] - 6s 18us/sample - loss: 8013054.0622 - mean_squared_error: 8013047.0000 - val_loss: 8412018.1509 - val_mean_squared_error: 8412017.0000\n",
      "Epoch 34/40\n",
      "330040/330040 [==============================] - 6s 18us/sample - loss: 8004520.8726 - mean_squared_error: 8004521.5000 - val_loss: 8425482.2753 - val_mean_squared_error: 8425484.0000\n",
      "Epoch 35/40\n",
      "330040/330040 [==============================] - 6s 18us/sample - loss: 7997728.2030 - mean_squared_error: 7997732.0000 - val_loss: 8439119.4508 - val_mean_squared_error: 8439121.0000\n",
      "Epoch 36/40\n",
      "330040/330040 [==============================] - 6s 17us/sample - loss: 7997167.2634 - mean_squared_error: 7997169.5000 - val_loss: 8562123.6846 - val_mean_squared_error: 8562123.0000\n",
      "Epoch 37/40\n",
      "330040/330040 [==============================] - 6s 17us/sample - loss: 7984636.5917 - mean_squared_error: 7984633.5000 - val_loss: 8449888.0644 - val_mean_squared_error: 8449886.0000\n",
      "Epoch 38/40\n",
      "330040/330040 [==============================] - 6s 17us/sample - loss: 7988988.8044 - mean_squared_error: 7988987.5000 - val_loss: 8446598.7439 - val_mean_squared_error: 8446598.0000\n",
      "Epoch 39/40\n",
      "330040/330040 [==============================] - 6s 17us/sample - loss: 7977036.8953 - mean_squared_error: 7977034.5000 - val_loss: 8461089.3422 - val_mean_squared_error: 8461088.0000\n",
      "Epoch 40/40\n",
      "330040/330040 [==============================] - 6s 17us/sample - loss: 7966521.2214 - mean_squared_error: 7966513.5000 - val_loss: 8471329.5053 - val_mean_squared_error: 8471330.0000\n"
     ]
    },
    {
     "data": {
      "text/plain": [
       "<tensorflow.python.keras.callbacks.History at 0x27223392898>"
      ]
     },
     "execution_count": 110,
     "metadata": {},
     "output_type": "execute_result"
    }
   ],
   "source": [
    "model.fit(X2_train,y2_train,epochs=40,batch_size=512,validation_split=0.2)"
   ]
  },
  {
   "cell_type": "code",
   "execution_count": 111,
   "metadata": {},
   "outputs": [],
   "source": [
    "y2_pred = model.predict(X2_test)"
   ]
  },
  {
   "cell_type": "code",
   "execution_count": 112,
   "metadata": {},
   "outputs": [
    {
     "name": "stdout",
     "output_type": "stream",
     "text": [
      "137517/137517 [==============================] - 14s 99us/sample - loss: 8465889.1091 - mean_squared_error: 8465891.0000\n"
     ]
    },
    {
     "data": {
      "text/plain": [
       "[8465889.109102875, 8465891.0]"
      ]
     },
     "execution_count": 112,
     "metadata": {},
     "output_type": "execute_result"
    }
   ],
   "source": [
    "model.evaluate(X2_test,y2_test)"
   ]
  },
  {
   "cell_type": "code",
   "execution_count": 114,
   "metadata": {},
   "outputs": [
    {
     "data": {
      "text/plain": [
       "2909.6200965486523"
      ]
     },
     "execution_count": 114,
     "metadata": {},
     "output_type": "execute_result"
    }
   ],
   "source": [
    "mse(y2_test,y2_pred) ** (1/2)"
   ]
  }
 ],
 "metadata": {
  "kernelspec": {
   "display_name": "Python 3",
   "language": "python",
   "name": "python3"
  },
  "language_info": {
   "codemirror_mode": {
    "name": "ipython",
    "version": 3
   },
   "file_extension": ".py",
   "mimetype": "text/x-python",
   "name": "python",
   "nbconvert_exporter": "python",
   "pygments_lexer": "ipython3",
   "version": "3.7.1"
  }
 },
 "nbformat": 4,
 "nbformat_minor": 2
}
